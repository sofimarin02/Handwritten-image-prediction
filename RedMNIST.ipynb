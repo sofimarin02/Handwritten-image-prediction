{
  "nbformat": 4,
  "nbformat_minor": 0,
  "metadata": {
    "colab": {
      "provenance": []
    },
    "kernelspec": {
      "name": "python3",
      "display_name": "Python 3"
    },
    "language_info": {
      "name": "python"
    }
  },
  "cells": [
    {
      "cell_type": "code",
      "source": [
        "import tensorflow as tf\n",
        "from tensorflow.keras.utils import to_categorical\n",
        "from sklearn.datasets import load_digits\n",
        "digits = load_digits()"
      ],
      "metadata": {
        "id": "vbMjHBujDvf-"
      },
      "execution_count": null,
      "outputs": []
    },
    {
      "cell_type": "code",
      "source": [
        "X = digits.data\n",
        "Y = digits.target\n",
        "print(X.shape, Y.shape)"
      ],
      "metadata": {
        "colab": {
          "base_uri": "https://localhost:8080/"
        },
        "id": "9zf2pZFOFL2Y",
        "outputId": "71d97753-9b1c-4f0f-e576-99ff1ea11754"
      },
      "execution_count": null,
      "outputs": [
        {
          "output_type": "stream",
          "name": "stdout",
          "text": [
            "(1797, 64) (1797,)\n"
          ]
        }
      ]
    },
    {
      "cell_type": "code",
      "source": [
        "#Normalización\n",
        "print(X.max(),X.min())\n",
        "X /= 16.0\n",
        "print(X.min(), X.max())"
      ],
      "metadata": {
        "colab": {
          "base_uri": "https://localhost:8080/"
        },
        "id": "ccBPzQz_FOG4",
        "outputId": "def6ff4c-28c1-421b-93cc-6630c9b1bcf3"
      },
      "execution_count": null,
      "outputs": [
        {
          "output_type": "stream",
          "name": "stdout",
          "text": [
            "16.0 0.0\n",
            "0.0 1.0\n"
          ]
        }
      ]
    },
    {
      "cell_type": "code",
      "source": [
        "#Division dataset\n",
        "from sklearn.model_selection import train_test_split#60,20,20\n",
        "\n",
        "x_train, x_test, y_train, y_test = train_test_split(X, Y, train_size = 0.6)\n",
        "x_test, x_val, y_test, y_val = train_test_split(x_test, y_test, train_size = 0.5)\n",
        "print( x_train.shape, x_val.shape, x_test.shape)\n",
        "print( y_train.shape, y_val.shape, y_test.shape)\n",
        "print(\"Y train:\",y_train)\n",
        "print(\"X train - Y train\",x_train[0], y_train[0])"
      ],
      "metadata": {
        "colab": {
          "base_uri": "https://localhost:8080/"
        },
        "id": "_jAZDRN6Fjx5",
        "outputId": "25ed16c8-a2eb-42e1-d833-df5981c3c15e"
      },
      "execution_count": null,
      "outputs": [
        {
          "output_type": "stream",
          "name": "stdout",
          "text": [
            "(1078, 64) (360, 64) (359, 64)\n",
            "(1078,) (360,) (359,)\n",
            "Y train: [5 4 2 ... 1 7 5]\n",
            "X train - Y train [0.     0.     0.875  0.75   0.75   0.75   0.375  0.     0.     0.125\n",
            " 0.9375 0.5    0.5    0.5    0.25   0.     0.     0.3125 0.75   0.\n",
            " 0.     0.     0.     0.     0.     0.5    1.     0.75   0.6875 0.4375\n",
            " 0.     0.     0.     0.0625 0.25   0.25   0.5625 0.9375 0.4375 0.\n",
            " 0.     0.     0.     0.     0.     0.5    0.5    0.     0.     0.0625\n",
            " 0.6875 0.25   0.3125 0.875  0.4375 0.     0.     0.     0.75   1.\n",
            " 1.     0.5    0.0625 0.    ] 5\n"
          ]
        }
      ]
    },
    {
      "cell_type": "code",
      "execution_count": null,
      "metadata": {
        "colab": {
          "base_uri": "https://localhost:8080/"
        },
        "id": "-17qysLIAmdq",
        "outputId": "d9a9ae99-f3ff-4539-b0f5-be1bb3e88e12"
      },
      "outputs": [
        {
          "output_type": "stream",
          "name": "stdout",
          "text": [
            "(48000, 28, 28) (12000, 28, 28) (10000, 28, 28)\n",
            "(48000, 784) (12000, 784) (10000, 28, 28)\n"
          ]
        }
      ],
      "source": [
        "(x_train, y_train), (x_test, y_test) = tf.keras.datasets.mnist.load_data()\n",
        "\n",
        "x_train, x_val, y_train, y_val = train_test_split(x_train, y_train, train_size = 0.8)\n",
        "print(x_train.shape, x_val.shape, x_test.shape)\n",
        "\n",
        "x_train = x_train.reshape((len(x_train), x_train.shape[1] * x_train.shape[2]))\n",
        "x_val = x_val.reshape((len(x_val), x_val.shape[1]* x_val.shape[2]))\n",
        "\n",
        "print(x_train.shape, x_val.shape, x_test.shape)"
      ]
    },
    {
      "cell_type": "code",
      "source": [
        "import numpy as np\n",
        "import matplotlib.pyplot as plt\n",
        "\n",
        "\n",
        "plt.figure(figsize=(20,4))\n",
        "\n",
        "inicial = 0\n",
        "\n",
        "for index, (imagen, etiqueta) in enumerate(zip(x_train[inicial:inicial+10], y_train[inicial:inicial+10])):\n",
        " plt.subplot(1, 10, index + 1)\n",
        " plt.imshow(np.reshape(imagen, (28,28)), cmap=plt.cm.gray)\n",
        " plt.title('pred, obj: ' +str(etiqueta), fontsize = 15)"
      ],
      "metadata": {
        "colab": {
          "base_uri": "https://localhost:8080/",
          "height": 96
        },
        "id": "4Txtkpd-C6WQ",
        "outputId": "d6b01561-79da-456a-91c7-fc444347cec6"
      },
      "execution_count": null,
      "outputs": [
        {
          "output_type": "display_data",
          "data": {
            "text/plain": [
              "<Figure size 2000x400 with 10 Axes>"
            ],
            "image/png": "[encoded data removed]"
          },
          "metadata": {}
        }
      ]
    },
    {
      "cell_type": "code",
      "source": [
        "print(y_train[56])\n",
        "y_train = to_categorical(y_train, 10)\n",
        "y_val = to_categorical(y_val, 10)\n",
        "#y_val = y_val.reshape((len(y_val), y_val.shape[1] * x_train.shape[2]))\n",
        "y_test = to_categorical(y_test, 10)\n",
        "print(y_train[56])\n"
      ],
      "metadata": {
        "colab": {
          "base_uri": "https://localhost:8080/"
        },
        "id": "GV-684DBDGKk",
        "outputId": "749f1e24-7f9f-4bbd-9868-c2bb4bf083d3"
      },
      "execution_count": null,
      "outputs": [
        {
          "output_type": "stream",
          "name": "stdout",
          "text": [
            "0\n",
            "[1. 0. 0. 0. 0. 0. 0. 0. 0. 0.]\n"
          ]
        }
      ]
    },
    {
      "cell_type": "code",
      "source": [
        "from tensorflow.keras.models import Sequential\n",
        "from tensorflow.keras.layers import Dense\n",
        "\n",
        "\n",
        "model = Sequential()\n",
        "model.add(Dense(512, input_shape=(784,), activation='sigmoid'))\n",
        "model.add(Dense(256, activation='sigmoid'))\n",
        "model.add(Dense(128, activation='sigmoid'))\n",
        "model.add(Dense(64, activation='sigmoid'))\n",
        "\n",
        "model.add(Dense(10, activation='softmax'))"
      ],
      "metadata": {
        "id": "KQCunhUojeoI"
      },
      "execution_count": null,
      "outputs": []
    },
    {
      "cell_type": "code",
      "source": [
        "import  tensorflow as tf\n",
        "model.compile(loss='categorical_crossentropy', optimizer=tf.keras.optimizers.Adam(learning_rate = 1e-3), metrics = ['accuracy'])"
      ],
      "metadata": {
        "id": "cW9Se_RQnlAF"
      },
      "execution_count": null,
      "outputs": []
    },
    {
      "cell_type": "code",
      "source": [
        "model.fit(x_train, y_train, validation_data = (x_val, y_val), epochs = 200 , batch_size = 256, verbose = 2)"
      ],
      "metadata": {
        "colab": {
          "base_uri": "https://localhost:8080/"
        },
        "id": "emxq1TDYnm47",
        "outputId": "6aa8574e-9896-46a6-8a8c-b2d4161b7234"
      },
      "execution_count": null,
      "outputs": [
        {
          "output_type": "stream",
          "name": "stdout",
          "text": [
            "Epoch 1/200\n",
            "188/188 - 6s - loss: 0.9751 - accuracy: 0.7739 - val_loss: 0.3935 - val_accuracy: 0.9030 - 6s/epoch - 29ms/step\n",
            "Epoch 2/200\n",
            "188/188 - 5s - loss: 0.3184 - accuracy: 0.9166 - val_loss: 0.2899 - val_accuracy: 0.9186 - 5s/epoch - 28ms/step\n",
            "Epoch 3/200\n",
            "188/188 - 4s - loss: 0.2549 - accuracy: 0.9271 - val_loss: 0.2508 - val_accuracy: 0.9245 - 4s/epoch - 23ms/step\n",
            "Epoch 4/200\n",
            "188/188 - 4s - loss: 0.2222 - accuracy: 0.9348 - val_loss: 0.2249 - val_accuracy: 0.9326 - 4s/epoch - 23ms/step\n",
            "Epoch 5/200\n",
            "188/188 - 5s - loss: 0.2120 - accuracy: 0.9377 - val_loss: 0.2227 - val_accuracy: 0.9345 - 5s/epoch - 28ms/step\n",
            "Epoch 6/200\n",
            "188/188 - 4s - loss: 0.2001 - accuracy: 0.9410 - val_loss: 0.2042 - val_accuracy: 0.9394 - 4s/epoch - 23ms/step\n",
            "Epoch 7/200\n",
            "188/188 - 5s - loss: 0.1976 - accuracy: 0.9396 - val_loss: 0.2119 - val_accuracy: 0.9345 - 5s/epoch - 29ms/step\n",
            "Epoch 8/200\n",
            "188/188 - 4s - loss: 0.1796 - accuracy: 0.9455 - val_loss: 0.1923 - val_accuracy: 0.9426 - 4s/epoch - 23ms/step\n",
            "Epoch 9/200\n",
            "188/188 - 4s - loss: 0.1762 - accuracy: 0.9453 - val_loss: 0.2017 - val_accuracy: 0.9378 - 4s/epoch - 22ms/step\n",
            "Epoch 10/200\n",
            "188/188 - 5s - loss: 0.1737 - accuracy: 0.9460 - val_loss: 0.1918 - val_accuracy: 0.9412 - 5s/epoch - 29ms/step\n",
            "Epoch 11/200\n",
            "188/188 - 4s - loss: 0.1640 - accuracy: 0.9488 - val_loss: 0.1865 - val_accuracy: 0.9426 - 4s/epoch - 23ms/step\n",
            "Epoch 12/200\n",
            "188/188 - 4s - loss: 0.1583 - accuracy: 0.9505 - val_loss: 0.1774 - val_accuracy: 0.9459 - 4s/epoch - 23ms/step\n",
            "Epoch 13/200\n",
            "188/188 - 5s - loss: 0.1609 - accuracy: 0.9503 - val_loss: 0.1878 - val_accuracy: 0.9422 - 5s/epoch - 28ms/step\n",
            "Epoch 14/200\n",
            "188/188 - 4s - loss: 0.1515 - accuracy: 0.9531 - val_loss: 0.1758 - val_accuracy: 0.9471 - 4s/epoch - 23ms/step\n",
            "Epoch 15/200\n",
            "188/188 - 5s - loss: 0.1491 - accuracy: 0.9536 - val_loss: 0.1815 - val_accuracy: 0.9407 - 5s/epoch - 28ms/step\n",
            "Epoch 16/200\n",
            "188/188 - 4s - loss: 0.1502 - accuracy: 0.9528 - val_loss: 0.1772 - val_accuracy: 0.9475 - 4s/epoch - 24ms/step\n",
            "Epoch 17/200\n",
            "188/188 - 4s - loss: 0.1451 - accuracy: 0.9550 - val_loss: 0.1738 - val_accuracy: 0.9476 - 4s/epoch - 23ms/step\n",
            "Epoch 18/200\n",
            "188/188 - 5s - loss: 0.1464 - accuracy: 0.9544 - val_loss: 0.1693 - val_accuracy: 0.9489 - 5s/epoch - 27ms/step\n",
            "Epoch 19/200\n",
            "188/188 - 4s - loss: 0.1450 - accuracy: 0.9542 - val_loss: 0.1782 - val_accuracy: 0.9439 - 4s/epoch - 22ms/step\n",
            "Epoch 20/200\n",
            "188/188 - 4s - loss: 0.1339 - accuracy: 0.9571 - val_loss: 0.1668 - val_accuracy: 0.9475 - 4s/epoch - 23ms/step\n",
            "Epoch 21/200\n",
            "188/188 - 5s - loss: 0.1370 - accuracy: 0.9567 - val_loss: 0.1760 - val_accuracy: 0.9462 - 5s/epoch - 28ms/step\n",
            "Epoch 22/200\n",
            "188/188 - 5s - loss: 0.1343 - accuracy: 0.9571 - val_loss: 0.1600 - val_accuracy: 0.9511 - 5s/epoch - 25ms/step\n",
            "Epoch 23/200\n",
            "188/188 - 5s - loss: 0.1304 - accuracy: 0.9587 - val_loss: 0.1561 - val_accuracy: 0.9535 - 5s/epoch - 28ms/step\n",
            "Epoch 24/200\n",
            "188/188 - 5s - loss: 0.1243 - accuracy: 0.9610 - val_loss: 0.1541 - val_accuracy: 0.9534 - 5s/epoch - 26ms/step\n",
            "Epoch 25/200\n",
            "188/188 - 4s - loss: 0.1226 - accuracy: 0.9613 - val_loss: 0.1492 - val_accuracy: 0.9569 - 4s/epoch - 23ms/step\n",
            "Epoch 26/200\n",
            "188/188 - 5s - loss: 0.1169 - accuracy: 0.9636 - val_loss: 0.1578 - val_accuracy: 0.9493 - 5s/epoch - 27ms/step\n",
            "Epoch 27/200\n",
            "188/188 - 4s - loss: 0.1158 - accuracy: 0.9639 - val_loss: 0.1410 - val_accuracy: 0.9574 - 4s/epoch - 23ms/step\n",
            "Epoch 28/200\n",
            "188/188 - 4s - loss: 0.1142 - accuracy: 0.9641 - val_loss: 0.1431 - val_accuracy: 0.9577 - 4s/epoch - 22ms/step\n",
            "Epoch 29/200\n",
            "188/188 - 5s - loss: 0.1164 - accuracy: 0.9629 - val_loss: 0.1571 - val_accuracy: 0.9517 - 5s/epoch - 27ms/step\n",
            "Epoch 30/200\n",
            "188/188 - 4s - loss: 0.1158 - accuracy: 0.9636 - val_loss: 0.1467 - val_accuracy: 0.9553 - 4s/epoch - 23ms/step\n",
            "Epoch 31/200\n",
            "188/188 - 5s - loss: 0.1098 - accuracy: 0.9649 - val_loss: 0.1473 - val_accuracy: 0.9556 - 5s/epoch - 28ms/step\n",
            "Epoch 32/200\n",
            "188/188 - 4s - loss: 0.1124 - accuracy: 0.9637 - val_loss: 0.1386 - val_accuracy: 0.9572 - 4s/epoch - 23ms/step\n",
            "Epoch 33/200\n",
            "188/188 - 4s - loss: 0.1070 - accuracy: 0.9655 - val_loss: 0.1346 - val_accuracy: 0.9588 - 4s/epoch - 23ms/step\n",
            "Epoch 34/200\n",
            "188/188 - 5s - loss: 0.1070 - accuracy: 0.9660 - val_loss: 0.1348 - val_accuracy: 0.9584 - 5s/epoch - 28ms/step\n",
            "Epoch 35/200\n",
            "188/188 - 4s - loss: 0.1064 - accuracy: 0.9656 - val_loss: 0.1369 - val_accuracy: 0.9562 - 4s/epoch - 23ms/step\n",
            "Epoch 36/200\n",
            "188/188 - 4s - loss: 0.1032 - accuracy: 0.9669 - val_loss: 0.1443 - val_accuracy: 0.9563 - 4s/epoch - 22ms/step\n",
            "Epoch 37/200\n",
            "188/188 - 5s - loss: 0.1029 - accuracy: 0.9674 - val_loss: 0.1364 - val_accuracy: 0.9595 - 5s/epoch - 29ms/step\n",
            "Epoch 38/200\n",
            "188/188 - 4s - loss: 0.1027 - accuracy: 0.9673 - val_loss: 0.1377 - val_accuracy: 0.9588 - 4s/epoch - 23ms/step\n",
            "Epoch 39/200\n",
            "188/188 - 5s - loss: 0.1003 - accuracy: 0.9678 - val_loss: 0.1376 - val_accuracy: 0.9563 - 5s/epoch - 28ms/step\n",
            "Epoch 40/200\n",
            "188/188 - 4s - loss: 0.1001 - accuracy: 0.9673 - val_loss: 0.1409 - val_accuracy: 0.9587 - 4s/epoch - 22ms/step\n",
            "Epoch 41/200\n",
            "188/188 - 4s - loss: 0.0972 - accuracy: 0.9687 - val_loss: 0.1413 - val_accuracy: 0.9572 - 4s/epoch - 23ms/step\n",
            "Epoch 42/200\n",
            "188/188 - 5s - loss: 0.0935 - accuracy: 0.9700 - val_loss: 0.1408 - val_accuracy: 0.9560 - 5s/epoch - 28ms/step\n",
            "Epoch 43/200\n",
            "188/188 - 4s - loss: 0.0938 - accuracy: 0.9702 - val_loss: 0.1496 - val_accuracy: 0.9546 - 4s/epoch - 23ms/step\n",
            "Epoch 44/200\n",
            "188/188 - 4s - loss: 0.0903 - accuracy: 0.9705 - val_loss: 0.1235 - val_accuracy: 0.9626 - 4s/epoch - 23ms/step\n",
            "Epoch 45/200\n",
            "188/188 - 5s - loss: 0.0924 - accuracy: 0.9703 - val_loss: 0.1297 - val_accuracy: 0.9598 - 5s/epoch - 29ms/step\n",
            "Epoch 46/200\n",
            "188/188 - 4s - loss: 0.0876 - accuracy: 0.9719 - val_loss: 0.1368 - val_accuracy: 0.9583 - 4s/epoch - 23ms/step\n",
            "Epoch 47/200\n",
            "188/188 - 5s - loss: 0.0871 - accuracy: 0.9716 - val_loss: 0.1275 - val_accuracy: 0.9610 - 5s/epoch - 28ms/step\n",
            "Epoch 48/200\n",
            "188/188 - 4s - loss: 0.0838 - accuracy: 0.9731 - val_loss: 0.1327 - val_accuracy: 0.9604 - 4s/epoch - 23ms/step\n",
            "Epoch 49/200\n",
            "188/188 - 4s - loss: 0.0837 - accuracy: 0.9728 - val_loss: 0.1284 - val_accuracy: 0.9607 - 4s/epoch - 23ms/step\n",
            "Epoch 50/200\n",
            "188/188 - 5s - loss: 0.0835 - accuracy: 0.9726 - val_loss: 0.1335 - val_accuracy: 0.9603 - 5s/epoch - 28ms/step\n",
            "Epoch 51/200\n",
            "188/188 - 4s - loss: 0.0844 - accuracy: 0.9724 - val_loss: 0.1337 - val_accuracy: 0.9585 - 4s/epoch - 22ms/step\n",
            "Epoch 52/200\n",
            "188/188 - 4s - loss: 0.0830 - accuracy: 0.9731 - val_loss: 0.1348 - val_accuracy: 0.9609 - 4s/epoch - 23ms/step\n",
            "Epoch 53/200\n",
            "188/188 - 5s - loss: 0.0875 - accuracy: 0.9715 - val_loss: 0.1369 - val_accuracy: 0.9589 - 5s/epoch - 29ms/step\n",
            "Epoch 54/200\n",
            "188/188 - 4s - loss: 0.0839 - accuracy: 0.9731 - val_loss: 0.1273 - val_accuracy: 0.9609 - 4s/epoch - 23ms/step\n",
            "Epoch 55/200\n",
            "188/188 - 5s - loss: 0.0780 - accuracy: 0.9743 - val_loss: 0.1239 - val_accuracy: 0.9632 - 5s/epoch - 27ms/step\n",
            "Epoch 56/200\n",
            "188/188 - 4s - loss: 0.0765 - accuracy: 0.9752 - val_loss: 0.1222 - val_accuracy: 0.9629 - 4s/epoch - 23ms/step\n",
            "Epoch 57/200\n",
            "188/188 - 4s - loss: 0.0748 - accuracy: 0.9757 - val_loss: 0.1276 - val_accuracy: 0.9623 - 4s/epoch - 23ms/step\n",
            "Epoch 58/200\n",
            "188/188 - 5s - loss: 0.0748 - accuracy: 0.9747 - val_loss: 0.1221 - val_accuracy: 0.9650 - 5s/epoch - 29ms/step\n",
            "Epoch 59/200\n",
            "188/188 - 4s - loss: 0.0693 - accuracy: 0.9772 - val_loss: 0.1166 - val_accuracy: 0.9656 - 4s/epoch - 23ms/step\n",
            "Epoch 60/200\n",
            "188/188 - 4s - loss: 0.0700 - accuracy: 0.9775 - val_loss: 0.1173 - val_accuracy: 0.9661 - 4s/epoch - 22ms/step\n",
            "Epoch 61/200\n",
            "188/188 - 5s - loss: 0.0711 - accuracy: 0.9767 - val_loss: 0.1217 - val_accuracy: 0.9637 - 5s/epoch - 29ms/step\n",
            "Epoch 62/200\n",
            "188/188 - 4s - loss: 0.0724 - accuracy: 0.9761 - val_loss: 0.1260 - val_accuracy: 0.9627 - 4s/epoch - 24ms/step\n",
            "Epoch 63/200\n",
            "188/188 - 4s - loss: 0.0741 - accuracy: 0.9763 - val_loss: 0.1259 - val_accuracy: 0.9605 - 4s/epoch - 23ms/step\n",
            "Epoch 64/200\n",
            "188/188 - 5s - loss: 0.0715 - accuracy: 0.9765 - val_loss: 0.1163 - val_accuracy: 0.9641 - 5s/epoch - 26ms/step\n",
            "Epoch 65/200\n",
            "188/188 - 4s - loss: 0.0668 - accuracy: 0.9779 - val_loss: 0.1086 - val_accuracy: 0.9678 - 4s/epoch - 23ms/step\n",
            "Epoch 66/200\n",
            "188/188 - 5s - loss: 0.0674 - accuracy: 0.9776 - val_loss: 0.1156 - val_accuracy: 0.9645 - 5s/epoch - 29ms/step\n",
            "Epoch 67/200\n",
            "188/188 - 4s - loss: 0.0648 - accuracy: 0.9791 - val_loss: 0.1259 - val_accuracy: 0.9618 - 4s/epoch - 22ms/step\n",
            "Epoch 68/200\n",
            "188/188 - 4s - loss: 0.0717 - accuracy: 0.9760 - val_loss: 0.1225 - val_accuracy: 0.9632 - 4s/epoch - 23ms/step\n",
            "Epoch 69/200\n",
            "188/188 - 7s - loss: 0.0720 - accuracy: 0.9759 - val_loss: 0.1227 - val_accuracy: 0.9632 - 7s/epoch - 36ms/step\n",
            "Epoch 70/200\n",
            "188/188 - 8s - loss: 0.0703 - accuracy: 0.9767 - val_loss: 0.1249 - val_accuracy: 0.9629 - 8s/epoch - 44ms/step\n",
            "Epoch 71/200\n",
            "188/188 - 10s - loss: 0.0710 - accuracy: 0.9762 - val_loss: 0.1188 - val_accuracy: 0.9628 - 10s/epoch - 53ms/step\n",
            "Epoch 72/200\n",
            "188/188 - 8s - loss: 0.0692 - accuracy: 0.9768 - val_loss: 0.1249 - val_accuracy: 0.9622 - 8s/epoch - 41ms/step\n",
            "Epoch 73/200\n",
            "188/188 - 4s - loss: 0.0733 - accuracy: 0.9753 - val_loss: 0.1229 - val_accuracy: 0.9646 - 4s/epoch - 22ms/step\n",
            "Epoch 74/200\n",
            "188/188 - 4s - loss: 0.0645 - accuracy: 0.9791 - val_loss: 0.1185 - val_accuracy: 0.9661 - 4s/epoch - 23ms/step\n",
            "Epoch 75/200\n",
            "188/188 - 5s - loss: 0.0663 - accuracy: 0.9779 - val_loss: 0.1205 - val_accuracy: 0.9642 - 5s/epoch - 27ms/step\n",
            "Epoch 76/200\n",
            "188/188 - 4s - loss: 0.0610 - accuracy: 0.9798 - val_loss: 0.1134 - val_accuracy: 0.9663 - 4s/epoch - 23ms/step\n",
            "Epoch 77/200\n",
            "188/188 - 5s - loss: 0.0633 - accuracy: 0.9788 - val_loss: 0.1088 - val_accuracy: 0.9668 - 5s/epoch - 25ms/step\n",
            "Epoch 78/200\n",
            "188/188 - 5s - loss: 0.0574 - accuracy: 0.9809 - val_loss: 0.1187 - val_accuracy: 0.9652 - 5s/epoch - 24ms/step\n",
            "Epoch 79/200\n",
            "188/188 - 4s - loss: 0.0599 - accuracy: 0.9799 - val_loss: 0.1097 - val_accuracy: 0.9684 - 4s/epoch - 23ms/step\n",
            "Epoch 80/200\n",
            "188/188 - 5s - loss: 0.0619 - accuracy: 0.9793 - val_loss: 0.1086 - val_accuracy: 0.9675 - 5s/epoch - 29ms/step\n",
            "Epoch 81/200\n",
            "188/188 - 4s - loss: 0.0574 - accuracy: 0.9810 - val_loss: 0.1116 - val_accuracy: 0.9688 - 4s/epoch - 22ms/step\n",
            "Epoch 82/200\n",
            "188/188 - 4s - loss: 0.0563 - accuracy: 0.9821 - val_loss: 0.1019 - val_accuracy: 0.9694 - 4s/epoch - 23ms/step\n",
            "Epoch 83/200\n",
            "188/188 - 5s - loss: 0.0576 - accuracy: 0.9802 - val_loss: 0.1135 - val_accuracy: 0.9667 - 5s/epoch - 28ms/step\n",
            "Epoch 84/200\n",
            "188/188 - 4s - loss: 0.0592 - accuracy: 0.9793 - val_loss: 0.1162 - val_accuracy: 0.9670 - 4s/epoch - 22ms/step\n",
            "Epoch 85/200\n",
            "188/188 - 4s - loss: 0.0569 - accuracy: 0.9809 - val_loss: 0.1296 - val_accuracy: 0.9607 - 4s/epoch - 23ms/step\n",
            "Epoch 86/200\n",
            "188/188 - 5s - loss: 0.0536 - accuracy: 0.9824 - val_loss: 0.1166 - val_accuracy: 0.9643 - 5s/epoch - 27ms/step\n",
            "Epoch 87/200\n",
            "188/188 - 4s - loss: 0.0530 - accuracy: 0.9827 - val_loss: 0.1077 - val_accuracy: 0.9688 - 4s/epoch - 22ms/step\n",
            "Epoch 88/200\n",
            "188/188 - 5s - loss: 0.0552 - accuracy: 0.9815 - val_loss: 0.1050 - val_accuracy: 0.9701 - 5s/epoch - 29ms/step\n",
            "Epoch 89/200\n",
            "188/188 - 4s - loss: 0.0542 - accuracy: 0.9816 - val_loss: 0.1194 - val_accuracy: 0.9643 - 4s/epoch - 23ms/step\n",
            "Epoch 90/200\n",
            "188/188 - 4s - loss: 0.0544 - accuracy: 0.9824 - val_loss: 0.1107 - val_accuracy: 0.9679 - 4s/epoch - 23ms/step\n",
            "Epoch 91/200\n",
            "188/188 - 5s - loss: 0.0525 - accuracy: 0.9829 - val_loss: 0.1058 - val_accuracy: 0.9693 - 5s/epoch - 29ms/step\n",
            "Epoch 92/200\n",
            "188/188 - 5s - loss: 0.0525 - accuracy: 0.9825 - val_loss: 0.1221 - val_accuracy: 0.9645 - 5s/epoch - 26ms/step\n",
            "Epoch 93/200\n",
            "188/188 - 4s - loss: 0.0540 - accuracy: 0.9825 - val_loss: 0.1095 - val_accuracy: 0.9678 - 4s/epoch - 23ms/step\n",
            "Epoch 94/200\n",
            "188/188 - 5s - loss: 0.0543 - accuracy: 0.9815 - val_loss: 0.1155 - val_accuracy: 0.9666 - 5s/epoch - 27ms/step\n",
            "Epoch 95/200\n",
            "188/188 - 4s - loss: 0.0547 - accuracy: 0.9808 - val_loss: 0.1087 - val_accuracy: 0.9684 - 4s/epoch - 23ms/step\n",
            "Epoch 96/200\n",
            "188/188 - 5s - loss: 0.0521 - accuracy: 0.9826 - val_loss: 0.1187 - val_accuracy: 0.9649 - 5s/epoch - 26ms/step\n",
            "Epoch 97/200\n",
            "188/188 - 4s - loss: 0.0540 - accuracy: 0.9814 - val_loss: 0.1065 - val_accuracy: 0.9690 - 4s/epoch - 23ms/step\n",
            "Epoch 98/200\n",
            "188/188 - 4s - loss: 0.0479 - accuracy: 0.9836 - val_loss: 0.1059 - val_accuracy: 0.9696 - 4s/epoch - 22ms/step\n",
            "Epoch 99/200\n",
            "188/188 - 5s - loss: 0.0537 - accuracy: 0.9820 - val_loss: 0.1119 - val_accuracy: 0.9682 - 5s/epoch - 28ms/step\n",
            "Epoch 100/200\n",
            "188/188 - 4s - loss: 0.0540 - accuracy: 0.9818 - val_loss: 0.1138 - val_accuracy: 0.9672 - 4s/epoch - 23ms/step\n",
            "Epoch 101/200\n",
            "188/188 - 4s - loss: 0.0489 - accuracy: 0.9842 - val_loss: 0.1114 - val_accuracy: 0.9671 - 4s/epoch - 23ms/step\n",
            "Epoch 102/200\n",
            "188/188 - 5s - loss: 0.0480 - accuracy: 0.9838 - val_loss: 0.1150 - val_accuracy: 0.9663 - 5s/epoch - 28ms/step\n",
            "Epoch 103/200\n",
            "188/188 - 4s - loss: 0.0473 - accuracy: 0.9840 - val_loss: 0.1049 - val_accuracy: 0.9692 - 4s/epoch - 23ms/step\n",
            "Epoch 104/200\n",
            "188/188 - 5s - loss: 0.0452 - accuracy: 0.9845 - val_loss: 0.1131 - val_accuracy: 0.9666 - 5s/epoch - 27ms/step\n",
            "Epoch 105/200\n",
            "188/188 - 5s - loss: 0.0470 - accuracy: 0.9834 - val_loss: 0.1082 - val_accuracy: 0.9688 - 5s/epoch - 25ms/step\n",
            "Epoch 106/200\n",
            "188/188 - 4s - loss: 0.0460 - accuracy: 0.9841 - val_loss: 0.1053 - val_accuracy: 0.9689 - 4s/epoch - 23ms/step\n",
            "Epoch 107/200\n",
            "188/188 - 5s - loss: 0.0443 - accuracy: 0.9843 - val_loss: 0.1041 - val_accuracy: 0.9688 - 5s/epoch - 29ms/step\n",
            "Epoch 108/200\n",
            "188/188 - 4s - loss: 0.0455 - accuracy: 0.9843 - val_loss: 0.1079 - val_accuracy: 0.9688 - 4s/epoch - 22ms/step\n",
            "Epoch 109/200\n",
            "188/188 - 4s - loss: 0.0402 - accuracy: 0.9861 - val_loss: 0.0986 - val_accuracy: 0.9729 - 4s/epoch - 23ms/step\n",
            "Epoch 110/200\n",
            "188/188 - 5s - loss: 0.0430 - accuracy: 0.9854 - val_loss: 0.1032 - val_accuracy: 0.9692 - 5s/epoch - 29ms/step\n",
            "Epoch 111/200\n",
            "188/188 - 4s - loss: 0.0427 - accuracy: 0.9857 - val_loss: 0.1065 - val_accuracy: 0.9707 - 4s/epoch - 23ms/step\n",
            "Epoch 112/200\n",
            "188/188 - 4s - loss: 0.0407 - accuracy: 0.9863 - val_loss: 0.1048 - val_accuracy: 0.9702 - 4s/epoch - 23ms/step\n",
            "Epoch 113/200\n",
            "188/188 - 6s - loss: 0.0404 - accuracy: 0.9861 - val_loss: 0.0992 - val_accuracy: 0.9723 - 6s/epoch - 33ms/step\n",
            "Epoch 114/200\n",
            "188/188 - 4s - loss: 0.0408 - accuracy: 0.9858 - val_loss: 0.1148 - val_accuracy: 0.9683 - 4s/epoch - 23ms/step\n",
            "Epoch 115/200\n",
            "188/188 - 5s - loss: 0.0427 - accuracy: 0.9855 - val_loss: 0.1078 - val_accuracy: 0.9703 - 5s/epoch - 28ms/step\n",
            "Epoch 116/200\n",
            "188/188 - 4s - loss: 0.0402 - accuracy: 0.9866 - val_loss: 0.1014 - val_accuracy: 0.9723 - 4s/epoch - 23ms/step\n",
            "Epoch 117/200\n",
            "188/188 - 4s - loss: 0.0391 - accuracy: 0.9870 - val_loss: 0.1098 - val_accuracy: 0.9705 - 4s/epoch - 23ms/step\n",
            "Epoch 118/200\n",
            "188/188 - 5s - loss: 0.0428 - accuracy: 0.9852 - val_loss: 0.1097 - val_accuracy: 0.9707 - 5s/epoch - 28ms/step\n",
            "Epoch 119/200\n",
            "188/188 - 4s - loss: 0.0375 - accuracy: 0.9874 - val_loss: 0.1038 - val_accuracy: 0.9699 - 4s/epoch - 22ms/step\n",
            "Epoch 120/200\n",
            "188/188 - 4s - loss: 0.0376 - accuracy: 0.9871 - val_loss: 0.1039 - val_accuracy: 0.9704 - 4s/epoch - 23ms/step\n",
            "Epoch 121/200\n",
            "188/188 - 5s - loss: 0.0377 - accuracy: 0.9871 - val_loss: 0.1064 - val_accuracy: 0.9682 - 5s/epoch - 27ms/step\n",
            "Epoch 122/200\n",
            "188/188 - 4s - loss: 0.0391 - accuracy: 0.9866 - val_loss: 0.1099 - val_accuracy: 0.9703 - 4s/epoch - 23ms/step\n",
            "Epoch 123/200\n",
            "188/188 - 6s - loss: 0.0382 - accuracy: 0.9861 - val_loss: 0.1027 - val_accuracy: 0.9707 - 6s/epoch - 30ms/step\n",
            "Epoch 124/200\n",
            "188/188 - 5s - loss: 0.0388 - accuracy: 0.9867 - val_loss: 0.1025 - val_accuracy: 0.9710 - 5s/epoch - 27ms/step\n",
            "Epoch 125/200\n",
            "188/188 - 4s - loss: 0.0390 - accuracy: 0.9862 - val_loss: 0.1002 - val_accuracy: 0.9725 - 4s/epoch - 22ms/step\n",
            "Epoch 126/200\n",
            "188/188 - 5s - loss: 0.0375 - accuracy: 0.9874 - val_loss: 0.1037 - val_accuracy: 0.9703 - 5s/epoch - 27ms/step\n",
            "Epoch 127/200\n",
            "188/188 - 4s - loss: 0.0386 - accuracy: 0.9866 - val_loss: 0.1102 - val_accuracy: 0.9693 - 4s/epoch - 23ms/step\n",
            "Epoch 128/200\n",
            "188/188 - 5s - loss: 0.0345 - accuracy: 0.9881 - val_loss: 0.1053 - val_accuracy: 0.9720 - 5s/epoch - 26ms/step\n",
            "Epoch 129/200\n",
            "188/188 - 5s - loss: 0.0345 - accuracy: 0.9879 - val_loss: 0.1223 - val_accuracy: 0.9655 - 5s/epoch - 25ms/step\n",
            "Epoch 130/200\n",
            "188/188 - 4s - loss: 0.0396 - accuracy: 0.9860 - val_loss: 0.1015 - val_accuracy: 0.9707 - 4s/epoch - 23ms/step\n",
            "Epoch 131/200\n",
            "188/188 - 5s - loss: 0.0387 - accuracy: 0.9869 - val_loss: 0.0979 - val_accuracy: 0.9727 - 5s/epoch - 29ms/step\n",
            "Epoch 132/200\n",
            "188/188 - 4s - loss: 0.0350 - accuracy: 0.9880 - val_loss: 0.1012 - val_accuracy: 0.9719 - 4s/epoch - 23ms/step\n",
            "Epoch 133/200\n",
            "188/188 - 4s - loss: 0.0339 - accuracy: 0.9885 - val_loss: 0.0968 - val_accuracy: 0.9724 - 4s/epoch - 23ms/step\n",
            "Epoch 134/200\n",
            "188/188 - 5s - loss: 0.0393 - accuracy: 0.9869 - val_loss: 0.0989 - val_accuracy: 0.9718 - 5s/epoch - 28ms/step\n",
            "Epoch 135/200\n",
            "188/188 - 4s - loss: 0.0369 - accuracy: 0.9875 - val_loss: 0.1048 - val_accuracy: 0.9707 - 4s/epoch - 23ms/step\n",
            "Epoch 136/200\n",
            "188/188 - 5s - loss: 0.0338 - accuracy: 0.9885 - val_loss: 0.1148 - val_accuracy: 0.9678 - 5s/epoch - 27ms/step\n",
            "Epoch 137/200\n",
            "188/188 - 5s - loss: 0.0372 - accuracy: 0.9872 - val_loss: 0.1060 - val_accuracy: 0.9700 - 5s/epoch - 24ms/step\n",
            "Epoch 138/200\n",
            "188/188 - 4s - loss: 0.0376 - accuracy: 0.9867 - val_loss: 0.1063 - val_accuracy: 0.9693 - 4s/epoch - 23ms/step\n",
            "Epoch 139/200\n",
            "188/188 - 7s - loss: 0.0390 - accuracy: 0.9864 - val_loss: 0.1096 - val_accuracy: 0.9699 - 7s/epoch - 35ms/step\n",
            "Epoch 140/200\n",
            "188/188 - 5s - loss: 0.0381 - accuracy: 0.9871 - val_loss: 0.1050 - val_accuracy: 0.9701 - 5s/epoch - 29ms/step\n",
            "Epoch 141/200\n",
            "188/188 - 7s - loss: 0.0368 - accuracy: 0.9874 - val_loss: 0.1049 - val_accuracy: 0.9724 - 7s/epoch - 36ms/step\n",
            "Epoch 142/200\n",
            "188/188 - 6s - loss: 0.0350 - accuracy: 0.9885 - val_loss: 0.1054 - val_accuracy: 0.9722 - 6s/epoch - 30ms/step\n",
            "Epoch 143/200\n",
            "188/188 - 8s - loss: 0.0329 - accuracy: 0.9890 - val_loss: 0.1164 - val_accuracy: 0.9688 - 8s/epoch - 43ms/step\n",
            "Epoch 144/200\n",
            "188/188 - 8s - loss: 0.0356 - accuracy: 0.9873 - val_loss: 0.1124 - val_accuracy: 0.9689 - 8s/epoch - 43ms/step\n",
            "Epoch 145/200\n",
            "188/188 - 8s - loss: 0.0356 - accuracy: 0.9873 - val_loss: 0.1153 - val_accuracy: 0.9682 - 8s/epoch - 42ms/step\n",
            "Epoch 146/200\n",
            "188/188 - 7s - loss: 0.0364 - accuracy: 0.9872 - val_loss: 0.1222 - val_accuracy: 0.9662 - 7s/epoch - 36ms/step\n",
            "Epoch 147/200\n",
            "188/188 - 6s - loss: 0.0349 - accuracy: 0.9882 - val_loss: 0.1091 - val_accuracy: 0.9691 - 6s/epoch - 31ms/step\n",
            "Epoch 148/200\n",
            "188/188 - 6s - loss: 0.0353 - accuracy: 0.9879 - val_loss: 0.1043 - val_accuracy: 0.9702 - 6s/epoch - 33ms/step\n",
            "Epoch 149/200\n",
            "188/188 - 5s - loss: 0.0344 - accuracy: 0.9881 - val_loss: 0.1136 - val_accuracy: 0.9690 - 5s/epoch - 26ms/step\n",
            "Epoch 150/200\n",
            "188/188 - 4s - loss: 0.0339 - accuracy: 0.9882 - val_loss: 0.1076 - val_accuracy: 0.9700 - 4s/epoch - 22ms/step\n",
            "Epoch 151/200\n",
            "188/188 - 5s - loss: 0.0357 - accuracy: 0.9875 - val_loss: 0.1142 - val_accuracy: 0.9707 - 5s/epoch - 26ms/step\n",
            "Epoch 152/200\n",
            "188/188 - 4s - loss: 0.0332 - accuracy: 0.9885 - val_loss: 0.1095 - val_accuracy: 0.9702 - 4s/epoch - 24ms/step\n",
            "Epoch 153/200\n",
            "188/188 - 4s - loss: 0.0312 - accuracy: 0.9892 - val_loss: 0.1114 - val_accuracy: 0.9694 - 4s/epoch - 23ms/step\n",
            "Epoch 154/200\n",
            "188/188 - 5s - loss: 0.0319 - accuracy: 0.9889 - val_loss: 0.1127 - val_accuracy: 0.9708 - 5s/epoch - 29ms/step\n",
            "Epoch 155/200\n",
            "188/188 - 4s - loss: 0.0340 - accuracy: 0.9886 - val_loss: 0.1139 - val_accuracy: 0.9701 - 4s/epoch - 22ms/step\n",
            "Epoch 156/200\n",
            "188/188 - 4s - loss: 0.0319 - accuracy: 0.9889 - val_loss: 0.1178 - val_accuracy: 0.9693 - 4s/epoch - 23ms/step\n",
            "Epoch 157/200\n",
            "188/188 - 6s - loss: 0.0325 - accuracy: 0.9885 - val_loss: 0.1123 - val_accuracy: 0.9697 - 6s/epoch - 31ms/step\n",
            "Epoch 158/200\n",
            "188/188 - 4s - loss: 0.0269 - accuracy: 0.9907 - val_loss: 0.1097 - val_accuracy: 0.9707 - 4s/epoch - 23ms/step\n",
            "Epoch 159/200\n",
            "188/188 - 5s - loss: 0.0277 - accuracy: 0.9901 - val_loss: 0.0993 - val_accuracy: 0.9737 - 5s/epoch - 25ms/step\n",
            "Epoch 160/200\n",
            "188/188 - 5s - loss: 0.0287 - accuracy: 0.9900 - val_loss: 0.1088 - val_accuracy: 0.9704 - 5s/epoch - 26ms/step\n",
            "Epoch 161/200\n",
            "188/188 - 5s - loss: 0.0301 - accuracy: 0.9889 - val_loss: 0.1051 - val_accuracy: 0.9718 - 5s/epoch - 26ms/step\n",
            "Epoch 162/200\n",
            "188/188 - 6s - loss: 0.0296 - accuracy: 0.9897 - val_loss: 0.1088 - val_accuracy: 0.9706 - 6s/epoch - 29ms/step\n",
            "Epoch 163/200\n",
            "188/188 - 4s - loss: 0.0301 - accuracy: 0.9898 - val_loss: 0.1038 - val_accuracy: 0.9702 - 4s/epoch - 23ms/step\n",
            "Epoch 164/200\n",
            "188/188 - 4s - loss: 0.0283 - accuracy: 0.9903 - val_loss: 0.1073 - val_accuracy: 0.9719 - 4s/epoch - 23ms/step\n",
            "Epoch 165/200\n",
            "188/188 - 5s - loss: 0.0293 - accuracy: 0.9900 - val_loss: 0.1037 - val_accuracy: 0.9732 - 5s/epoch - 29ms/step\n",
            "Epoch 166/200\n",
            "188/188 - 7s - loss: 0.0271 - accuracy: 0.9906 - val_loss: 0.1035 - val_accuracy: 0.9722 - 7s/epoch - 39ms/step\n",
            "Epoch 167/200\n",
            "188/188 - 9s - loss: 0.0247 - accuracy: 0.9913 - val_loss: 0.1070 - val_accuracy: 0.9712 - 9s/epoch - 47ms/step\n",
            "Epoch 168/200\n",
            "188/188 - 6s - loss: 0.0235 - accuracy: 0.9913 - val_loss: 0.1097 - val_accuracy: 0.9716 - 6s/epoch - 34ms/step\n",
            "Epoch 169/200\n",
            "188/188 - 5s - loss: 0.0258 - accuracy: 0.9910 - val_loss: 0.1075 - val_accuracy: 0.9722 - 5s/epoch - 27ms/step\n",
            "Epoch 170/200\n",
            "188/188 - 6s - loss: 0.0239 - accuracy: 0.9917 - val_loss: 0.1124 - val_accuracy: 0.9713 - 6s/epoch - 30ms/step\n",
            "Epoch 171/200\n",
            "188/188 - 8s - loss: 0.0276 - accuracy: 0.9904 - val_loss: 0.1002 - val_accuracy: 0.9747 - 8s/epoch - 40ms/step\n",
            "Epoch 172/200\n",
            "188/188 - 5s - loss: 0.0283 - accuracy: 0.9901 - val_loss: 0.1141 - val_accuracy: 0.9705 - 5s/epoch - 27ms/step\n",
            "Epoch 173/200\n",
            "188/188 - 7s - loss: 0.0261 - accuracy: 0.9910 - val_loss: 0.1044 - val_accuracy: 0.9718 - 7s/epoch - 38ms/step\n",
            "Epoch 174/200\n",
            "188/188 - 6s - loss: 0.0309 - accuracy: 0.9894 - val_loss: 0.1176 - val_accuracy: 0.9707 - 6s/epoch - 29ms/step\n",
            "Epoch 175/200\n",
            "188/188 - 6s - loss: 0.0282 - accuracy: 0.9902 - val_loss: 0.1223 - val_accuracy: 0.9682 - 6s/epoch - 33ms/step\n",
            "Epoch 176/200\n",
            "188/188 - 6s - loss: 0.0311 - accuracy: 0.9890 - val_loss: 0.1106 - val_accuracy: 0.9716 - 6s/epoch - 30ms/step\n",
            "Epoch 177/200\n",
            "188/188 - 8s - loss: 0.0278 - accuracy: 0.9908 - val_loss: 0.1089 - val_accuracy: 0.9719 - 8s/epoch - 40ms/step\n",
            "Epoch 178/200\n",
            "188/188 - 7s - loss: 0.0271 - accuracy: 0.9905 - val_loss: 0.1101 - val_accuracy: 0.9720 - 7s/epoch - 35ms/step\n",
            "Epoch 179/200\n",
            "188/188 - 7s - loss: 0.0289 - accuracy: 0.9894 - val_loss: 0.1202 - val_accuracy: 0.9705 - 7s/epoch - 38ms/step\n",
            "Epoch 180/200\n",
            "188/188 - 5s - loss: 0.0252 - accuracy: 0.9911 - val_loss: 0.1151 - val_accuracy: 0.9712 - 5s/epoch - 29ms/step\n",
            "Epoch 181/200\n",
            "188/188 - 8s - loss: 0.0270 - accuracy: 0.9906 - val_loss: 0.1184 - val_accuracy: 0.9698 - 8s/epoch - 40ms/step\n",
            "Epoch 182/200\n",
            "188/188 - 7s - loss: 0.0288 - accuracy: 0.9898 - val_loss: 0.1126 - val_accuracy: 0.9714 - 7s/epoch - 38ms/step\n",
            "Epoch 183/200\n",
            "188/188 - 7s - loss: 0.0281 - accuracy: 0.9902 - val_loss: 0.1223 - val_accuracy: 0.9690 - 7s/epoch - 35ms/step\n",
            "Epoch 184/200\n",
            "188/188 - 6s - loss: 0.0260 - accuracy: 0.9913 - val_loss: 0.1162 - val_accuracy: 0.9701 - 6s/epoch - 32ms/step\n",
            "Epoch 185/200\n",
            "188/188 - 8s - loss: 0.0259 - accuracy: 0.9915 - val_loss: 0.1100 - val_accuracy: 0.9722 - 8s/epoch - 43ms/step\n",
            "Epoch 186/200\n",
            "188/188 - 9s - loss: 0.0264 - accuracy: 0.9908 - val_loss: 0.1026 - val_accuracy: 0.9744 - 9s/epoch - 46ms/step\n",
            "Epoch 187/200\n",
            "188/188 - 8s - loss: 0.0256 - accuracy: 0.9909 - val_loss: 0.1113 - val_accuracy: 0.9723 - 8s/epoch - 43ms/step\n",
            "Epoch 188/200\n",
            "188/188 - 8s - loss: 0.0243 - accuracy: 0.9917 - val_loss: 0.1063 - val_accuracy: 0.9722 - 8s/epoch - 42ms/step\n",
            "Epoch 189/200\n",
            "188/188 - 6s - loss: 0.0256 - accuracy: 0.9910 - val_loss: 0.1028 - val_accuracy: 0.9732 - 6s/epoch - 33ms/step\n",
            "Epoch 190/200\n",
            "188/188 - 5s - loss: 0.0220 - accuracy: 0.9921 - val_loss: 0.1105 - val_accuracy: 0.9719 - 5s/epoch - 28ms/step\n",
            "Epoch 191/200\n",
            "188/188 - 4s - loss: 0.0217 - accuracy: 0.9919 - val_loss: 0.1169 - val_accuracy: 0.9714 - 4s/epoch - 22ms/step\n",
            "Epoch 192/200\n",
            "188/188 - 4s - loss: 0.0223 - accuracy: 0.9922 - val_loss: 0.1038 - val_accuracy: 0.9756 - 4s/epoch - 23ms/step\n",
            "Epoch 193/200\n",
            "188/188 - 5s - loss: 0.0202 - accuracy: 0.9933 - val_loss: 0.1098 - val_accuracy: 0.9745 - 5s/epoch - 28ms/step\n",
            "Epoch 194/200\n",
            "188/188 - 4s - loss: 0.0217 - accuracy: 0.9927 - val_loss: 0.1102 - val_accuracy: 0.9719 - 4s/epoch - 22ms/step\n",
            "Epoch 195/200\n",
            "188/188 - 5s - loss: 0.0258 - accuracy: 0.9912 - val_loss: 0.1114 - val_accuracy: 0.9712 - 5s/epoch - 27ms/step\n",
            "Epoch 196/200\n",
            "188/188 - 5s - loss: 0.0251 - accuracy: 0.9911 - val_loss: 0.1097 - val_accuracy: 0.9721 - 5s/epoch - 24ms/step\n",
            "Epoch 197/200\n",
            "188/188 - 4s - loss: 0.0264 - accuracy: 0.9906 - val_loss: 0.1049 - val_accuracy: 0.9723 - 4s/epoch - 23ms/step\n",
            "Epoch 198/200\n",
            "188/188 - 5s - loss: 0.0225 - accuracy: 0.9921 - val_loss: 0.1137 - val_accuracy: 0.9709 - 5s/epoch - 27ms/step\n",
            "Epoch 199/200\n",
            "188/188 - 4s - loss: 0.0226 - accuracy: 0.9924 - val_loss: 0.1187 - val_accuracy: 0.9696 - 4s/epoch - 23ms/step\n",
            "Epoch 200/200\n",
            "188/188 - 5s - loss: 0.0231 - accuracy: 0.9919 - val_loss: 0.1199 - val_accuracy: 0.9703 - 5s/epoch - 27ms/step\n"
          ]
        },
        {
          "output_type": "execute_result",
          "data": {
            "text/plain": [
              "<keras.src.callbacks.History at 0x7c6ce742f460>"
            ]
          },
          "metadata": {},
          "execution_count": 24
        }
      ]
    }
  ]
}